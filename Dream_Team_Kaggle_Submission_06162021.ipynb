{
 "cells": [
  {
   "cell_type": "code",
   "execution_count": 1,
   "metadata": {
    "id": "tAYwtusu6DU6"
   },
   "outputs": [],
   "source": [
    "# This is a tutorial to create a simple prediction model to perform the following\n",
    "# 1. Read in and show basic information about the training data\n",
    "# 2. Create a simple prediction model on a portion of the training data\n",
    "# 3. Test the quality of the model on a later portion of the data\n",
    "# 4. Create a final model using all the training data based on the best choices above\n",
    "# 5. Apply that model to the test data, to be scored on the kaggle.com site\n",
    "\n",
    "# FILES NEEDED: for this code to work, you will need train_luc.csv and test_luc.csv\n",
    "# in the same folder as this notebook"
   ]
  },
  {
   "cell_type": "markdown",
   "metadata": {
    "id": "dEWi2p2sQY_q"
   },
   "source": [
    "## Team Members:  Farhan Almufleh, Keith Santamaria, Sri Tammineni, Jana Voege\n",
    "We started by producing visualizations (primarily histograms) of rider counts (total, registered, and casual) by hour, using various subsets of the data, such as each season and each weather condition.\n",
    "We utilized the following resources to learn how to concatenate and properly sort:  https://pythonexamples.org/pandas-concatenate-dataframes/ and https://datatofish.com/sort-pandas-dataframe/\n",
    "We created new features, including dayofweek, hour, month, and year.  These prove to help our models.\n",
    "We fit models using Decision Tree, Random Forest, and k Nearest Neighbors (kNN) Regressor.  The best performance came from combining separate models for casual and registered users using Randomforest Regressor with 100 estimators."
   ]
  },
  {
   "cell_type": "code",
   "execution_count": 2,
   "metadata": {
    "id": "FSzHEfAY6DU8"
   },
   "outputs": [],
   "source": [
    "import pandas as pd\n",
    "import numpy as np\n",
    "import csv as csv\n",
    "from datetime import datetime\n",
    "import matplotlib.pyplot as plt\n",
    "\n",
    "%matplotlib inline"
   ]
  },
  {
   "cell_type": "code",
   "execution_count": 3,
   "metadata": {
    "colab": {
     "base_uri": "https://localhost:8080/",
     "height": 255
    },
    "id": "QaUo_rPE6DU8",
    "outputId": "56470d9b-dae2-4e14-8855-ca648e2b4a4c"
   },
   "outputs": [
    {
     "name": "stdout",
     "output_type": "stream",
     "text": [
      "\n",
      "Number of samples: 9174 and number of features: 12 \n",
      "\n"
     ]
    },
    {
     "data": {
      "text/html": [
       "<div>\n",
       "<style scoped>\n",
       "    .dataframe tbody tr th:only-of-type {\n",
       "        vertical-align: middle;\n",
       "    }\n",
       "\n",
       "    .dataframe tbody tr th {\n",
       "        vertical-align: top;\n",
       "    }\n",
       "\n",
       "    .dataframe thead th {\n",
       "        text-align: right;\n",
       "    }\n",
       "</style>\n",
       "<table border=\"1\" class=\"dataframe\">\n",
       "  <thead>\n",
       "    <tr style=\"text-align: right;\">\n",
       "      <th></th>\n",
       "      <th>datetime</th>\n",
       "      <th>season</th>\n",
       "      <th>holiday</th>\n",
       "      <th>workingday</th>\n",
       "      <th>weather</th>\n",
       "      <th>temp</th>\n",
       "      <th>atemp</th>\n",
       "      <th>humidity</th>\n",
       "      <th>windspeed</th>\n",
       "      <th>casual</th>\n",
       "      <th>registered</th>\n",
       "      <th>count</th>\n",
       "    </tr>\n",
       "  </thead>\n",
       "  <tbody>\n",
       "    <tr>\n",
       "      <th>0</th>\n",
       "      <td>2011-01-01 00:00:00</td>\n",
       "      <td>1</td>\n",
       "      <td>0</td>\n",
       "      <td>0</td>\n",
       "      <td>1</td>\n",
       "      <td>9.84</td>\n",
       "      <td>14.395</td>\n",
       "      <td>81</td>\n",
       "      <td>0.0</td>\n",
       "      <td>3</td>\n",
       "      <td>13</td>\n",
       "      <td>16</td>\n",
       "    </tr>\n",
       "    <tr>\n",
       "      <th>1</th>\n",
       "      <td>2011-01-01 01:00:00</td>\n",
       "      <td>1</td>\n",
       "      <td>0</td>\n",
       "      <td>0</td>\n",
       "      <td>1</td>\n",
       "      <td>9.02</td>\n",
       "      <td>13.635</td>\n",
       "      <td>80</td>\n",
       "      <td>0.0</td>\n",
       "      <td>8</td>\n",
       "      <td>32</td>\n",
       "      <td>40</td>\n",
       "    </tr>\n",
       "    <tr>\n",
       "      <th>2</th>\n",
       "      <td>2011-01-01 02:00:00</td>\n",
       "      <td>1</td>\n",
       "      <td>0</td>\n",
       "      <td>0</td>\n",
       "      <td>1</td>\n",
       "      <td>9.02</td>\n",
       "      <td>13.635</td>\n",
       "      <td>80</td>\n",
       "      <td>0.0</td>\n",
       "      <td>5</td>\n",
       "      <td>27</td>\n",
       "      <td>32</td>\n",
       "    </tr>\n",
       "    <tr>\n",
       "      <th>3</th>\n",
       "      <td>2011-01-01 03:00:00</td>\n",
       "      <td>1</td>\n",
       "      <td>0</td>\n",
       "      <td>0</td>\n",
       "      <td>1</td>\n",
       "      <td>9.84</td>\n",
       "      <td>14.395</td>\n",
       "      <td>75</td>\n",
       "      <td>0.0</td>\n",
       "      <td>3</td>\n",
       "      <td>10</td>\n",
       "      <td>13</td>\n",
       "    </tr>\n",
       "    <tr>\n",
       "      <th>4</th>\n",
       "      <td>2011-01-01 04:00:00</td>\n",
       "      <td>1</td>\n",
       "      <td>0</td>\n",
       "      <td>0</td>\n",
       "      <td>1</td>\n",
       "      <td>9.84</td>\n",
       "      <td>14.395</td>\n",
       "      <td>75</td>\n",
       "      <td>0.0</td>\n",
       "      <td>0</td>\n",
       "      <td>1</td>\n",
       "      <td>1</td>\n",
       "    </tr>\n",
       "  </tbody>\n",
       "</table>\n",
       "</div>"
      ],
      "text/plain": [
       "              datetime  season  holiday  workingday  weather  temp   atemp  \\\n",
       "0  2011-01-01 00:00:00       1        0           0        1  9.84  14.395   \n",
       "1  2011-01-01 01:00:00       1        0           0        1  9.02  13.635   \n",
       "2  2011-01-01 02:00:00       1        0           0        1  9.02  13.635   \n",
       "3  2011-01-01 03:00:00       1        0           0        1  9.84  14.395   \n",
       "4  2011-01-01 04:00:00       1        0           0        1  9.84  14.395   \n",
       "\n",
       "   humidity  windspeed  casual  registered  count  \n",
       "0        81        0.0       3          13     16  \n",
       "1        80        0.0       8          32     40  \n",
       "2        80        0.0       5          27     32  \n",
       "3        75        0.0       3          10     13  \n",
       "4        75        0.0       0           1      1  "
      ]
     },
     "execution_count": 3,
     "metadata": {},
     "output_type": "execute_result"
    }
   ],
   "source": [
    "# read the data and display the first 5 rows\n",
    "train_df = pd.read_csv('train_luc.csv', header=0)\n",
    "\n",
    "print(\"\\nNumber of samples:\",train_df.shape[0],\"and number of features:\",train_df.shape[1],\"\\n\")\n",
    "\n",
    "train_df.head()"
   ]
  },
  {
   "cell_type": "markdown",
   "metadata": {
    "id": "jH127AcM6DU9"
   },
   "source": [
    "# Understanding basic stats of the data set"
   ]
  },
  {
   "cell_type": "code",
   "execution_count": 4,
   "metadata": {
    "colab": {
     "base_uri": "https://localhost:8080/",
     "height": 297
    },
    "id": "irR2Tpn56DU9",
    "outputId": "2fea7525-43f4-45f2-8bac-897868590137"
   },
   "outputs": [
    {
     "data": {
      "text/html": [
       "<div>\n",
       "<style scoped>\n",
       "    .dataframe tbody tr th:only-of-type {\n",
       "        vertical-align: middle;\n",
       "    }\n",
       "\n",
       "    .dataframe tbody tr th {\n",
       "        vertical-align: top;\n",
       "    }\n",
       "\n",
       "    .dataframe thead th {\n",
       "        text-align: right;\n",
       "    }\n",
       "</style>\n",
       "<table border=\"1\" class=\"dataframe\">\n",
       "  <thead>\n",
       "    <tr style=\"text-align: right;\">\n",
       "      <th></th>\n",
       "      <th>season</th>\n",
       "      <th>holiday</th>\n",
       "      <th>workingday</th>\n",
       "      <th>weather</th>\n",
       "      <th>temp</th>\n",
       "      <th>atemp</th>\n",
       "      <th>humidity</th>\n",
       "      <th>windspeed</th>\n",
       "      <th>casual</th>\n",
       "      <th>registered</th>\n",
       "      <th>count</th>\n",
       "    </tr>\n",
       "  </thead>\n",
       "  <tbody>\n",
       "    <tr>\n",
       "      <th>count</th>\n",
       "      <td>9174.000000</td>\n",
       "      <td>9174.000000</td>\n",
       "      <td>9174.000000</td>\n",
       "      <td>9174.000000</td>\n",
       "      <td>9174.000000</td>\n",
       "      <td>9174.000000</td>\n",
       "      <td>9174.000000</td>\n",
       "      <td>9174.000000</td>\n",
       "      <td>9174.000000</td>\n",
       "      <td>9174.000000</td>\n",
       "      <td>9174.000000</td>\n",
       "    </tr>\n",
       "    <tr>\n",
       "      <th>mean</th>\n",
       "      <td>2.505559</td>\n",
       "      <td>0.031284</td>\n",
       "      <td>0.678875</td>\n",
       "      <td>1.414868</td>\n",
       "      <td>20.130401</td>\n",
       "      <td>23.578433</td>\n",
       "      <td>61.715064</td>\n",
       "      <td>12.737931</td>\n",
       "      <td>35.713647</td>\n",
       "      <td>154.868106</td>\n",
       "      <td>190.581753</td>\n",
       "    </tr>\n",
       "    <tr>\n",
       "      <th>std</th>\n",
       "      <td>1.116618</td>\n",
       "      <td>0.174094</td>\n",
       "      <td>0.466934</td>\n",
       "      <td>0.635363</td>\n",
       "      <td>7.940504</td>\n",
       "      <td>8.617957</td>\n",
       "      <td>19.401829</td>\n",
       "      <td>8.199027</td>\n",
       "      <td>49.667738</td>\n",
       "      <td>150.981155</td>\n",
       "      <td>181.011530</td>\n",
       "    </tr>\n",
       "    <tr>\n",
       "      <th>min</th>\n",
       "      <td>1.000000</td>\n",
       "      <td>0.000000</td>\n",
       "      <td>0.000000</td>\n",
       "      <td>1.000000</td>\n",
       "      <td>0.820000</td>\n",
       "      <td>0.760000</td>\n",
       "      <td>0.000000</td>\n",
       "      <td>0.000000</td>\n",
       "      <td>0.000000</td>\n",
       "      <td>0.000000</td>\n",
       "      <td>1.000000</td>\n",
       "    </tr>\n",
       "    <tr>\n",
       "      <th>25%</th>\n",
       "      <td>2.000000</td>\n",
       "      <td>0.000000</td>\n",
       "      <td>0.000000</td>\n",
       "      <td>1.000000</td>\n",
       "      <td>13.940000</td>\n",
       "      <td>16.665000</td>\n",
       "      <td>46.000000</td>\n",
       "      <td>7.001500</td>\n",
       "      <td>4.000000</td>\n",
       "      <td>35.000000</td>\n",
       "      <td>41.000000</td>\n",
       "    </tr>\n",
       "    <tr>\n",
       "      <th>50%</th>\n",
       "      <td>3.000000</td>\n",
       "      <td>0.000000</td>\n",
       "      <td>1.000000</td>\n",
       "      <td>1.000000</td>\n",
       "      <td>20.500000</td>\n",
       "      <td>24.240000</td>\n",
       "      <td>61.000000</td>\n",
       "      <td>11.001400</td>\n",
       "      <td>16.000000</td>\n",
       "      <td>117.000000</td>\n",
       "      <td>144.000000</td>\n",
       "    </tr>\n",
       "    <tr>\n",
       "      <th>75%</th>\n",
       "      <td>4.000000</td>\n",
       "      <td>0.000000</td>\n",
       "      <td>1.000000</td>\n",
       "      <td>2.000000</td>\n",
       "      <td>27.060000</td>\n",
       "      <td>31.060000</td>\n",
       "      <td>78.000000</td>\n",
       "      <td>16.997900</td>\n",
       "      <td>48.000000</td>\n",
       "      <td>222.000000</td>\n",
       "      <td>282.000000</td>\n",
       "    </tr>\n",
       "    <tr>\n",
       "      <th>max</th>\n",
       "      <td>4.000000</td>\n",
       "      <td>1.000000</td>\n",
       "      <td>1.000000</td>\n",
       "      <td>4.000000</td>\n",
       "      <td>41.000000</td>\n",
       "      <td>45.455000</td>\n",
       "      <td>100.000000</td>\n",
       "      <td>56.996900</td>\n",
       "      <td>362.000000</td>\n",
       "      <td>886.000000</td>\n",
       "      <td>977.000000</td>\n",
       "    </tr>\n",
       "  </tbody>\n",
       "</table>\n",
       "</div>"
      ],
      "text/plain": [
       "            season      holiday   workingday      weather         temp  \\\n",
       "count  9174.000000  9174.000000  9174.000000  9174.000000  9174.000000   \n",
       "mean      2.505559     0.031284     0.678875     1.414868    20.130401   \n",
       "std       1.116618     0.174094     0.466934     0.635363     7.940504   \n",
       "min       1.000000     0.000000     0.000000     1.000000     0.820000   \n",
       "25%       2.000000     0.000000     0.000000     1.000000    13.940000   \n",
       "50%       3.000000     0.000000     1.000000     1.000000    20.500000   \n",
       "75%       4.000000     0.000000     1.000000     2.000000    27.060000   \n",
       "max       4.000000     1.000000     1.000000     4.000000    41.000000   \n",
       "\n",
       "             atemp     humidity    windspeed       casual   registered  \\\n",
       "count  9174.000000  9174.000000  9174.000000  9174.000000  9174.000000   \n",
       "mean     23.578433    61.715064    12.737931    35.713647   154.868106   \n",
       "std       8.617957    19.401829     8.199027    49.667738   150.981155   \n",
       "min       0.760000     0.000000     0.000000     0.000000     0.000000   \n",
       "25%      16.665000    46.000000     7.001500     4.000000    35.000000   \n",
       "50%      24.240000    61.000000    11.001400    16.000000   117.000000   \n",
       "75%      31.060000    78.000000    16.997900    48.000000   222.000000   \n",
       "max      45.455000   100.000000    56.996900   362.000000   886.000000   \n",
       "\n",
       "             count  \n",
       "count  9174.000000  \n",
       "mean    190.581753  \n",
       "std     181.011530  \n",
       "min       1.000000  \n",
       "25%      41.000000  \n",
       "50%     144.000000  \n",
       "75%     282.000000  \n",
       "max     977.000000  "
      ]
     },
     "execution_count": 4,
     "metadata": {},
     "output_type": "execute_result"
    }
   ],
   "source": [
    "# read about the data elsewhere, however, it is critical to observe the data to make sure\n",
    "# everything is read in correctly and matches the description\n",
    "\n",
    "train_df.describe()"
   ]
  },
  {
   "cell_type": "markdown",
   "metadata": {
    "id": "NDi3j1Zy6DU9"
   },
   "source": [
    "# Create a new feature"
   ]
  },
  {
   "cell_type": "code",
   "execution_count": 5,
   "metadata": {
    "colab": {
     "base_uri": "https://localhost:8080/",
     "height": 408
    },
    "id": "bwuccBrr6DU-",
    "outputId": "e404f796-2356-41d9-b9bb-64e9143dcf77"
   },
   "outputs": [
    {
     "data": {
      "text/html": [
       "<div>\n",
       "<style scoped>\n",
       "    .dataframe tbody tr th:only-of-type {\n",
       "        vertical-align: middle;\n",
       "    }\n",
       "\n",
       "    .dataframe tbody tr th {\n",
       "        vertical-align: top;\n",
       "    }\n",
       "\n",
       "    .dataframe thead th {\n",
       "        text-align: right;\n",
       "    }\n",
       "</style>\n",
       "<table border=\"1\" class=\"dataframe\">\n",
       "  <thead>\n",
       "    <tr style=\"text-align: right;\">\n",
       "      <th></th>\n",
       "      <th>datetime</th>\n",
       "      <th>season</th>\n",
       "      <th>holiday</th>\n",
       "      <th>workingday</th>\n",
       "      <th>weather</th>\n",
       "      <th>temp</th>\n",
       "      <th>atemp</th>\n",
       "      <th>humidity</th>\n",
       "      <th>windspeed</th>\n",
       "      <th>casual</th>\n",
       "      <th>registered</th>\n",
       "      <th>count</th>\n",
       "      <th>year</th>\n",
       "      <th>month</th>\n",
       "      <th>hour</th>\n",
       "      <th>dayofweek</th>\n",
       "    </tr>\n",
       "  </thead>\n",
       "  <tbody>\n",
       "    <tr>\n",
       "      <th>0</th>\n",
       "      <td>2011-01-01 00:00:00</td>\n",
       "      <td>1</td>\n",
       "      <td>0</td>\n",
       "      <td>0</td>\n",
       "      <td>1</td>\n",
       "      <td>9.84</td>\n",
       "      <td>14.395</td>\n",
       "      <td>81</td>\n",
       "      <td>0.0</td>\n",
       "      <td>3</td>\n",
       "      <td>13</td>\n",
       "      <td>16</td>\n",
       "      <td>2011</td>\n",
       "      <td>1</td>\n",
       "      <td>0</td>\n",
       "      <td>5</td>\n",
       "    </tr>\n",
       "    <tr>\n",
       "      <th>1</th>\n",
       "      <td>2011-01-01 01:00:00</td>\n",
       "      <td>1</td>\n",
       "      <td>0</td>\n",
       "      <td>0</td>\n",
       "      <td>1</td>\n",
       "      <td>9.02</td>\n",
       "      <td>13.635</td>\n",
       "      <td>80</td>\n",
       "      <td>0.0</td>\n",
       "      <td>8</td>\n",
       "      <td>32</td>\n",
       "      <td>40</td>\n",
       "      <td>2011</td>\n",
       "      <td>1</td>\n",
       "      <td>1</td>\n",
       "      <td>5</td>\n",
       "    </tr>\n",
       "    <tr>\n",
       "      <th>2</th>\n",
       "      <td>2011-01-01 02:00:00</td>\n",
       "      <td>1</td>\n",
       "      <td>0</td>\n",
       "      <td>0</td>\n",
       "      <td>1</td>\n",
       "      <td>9.02</td>\n",
       "      <td>13.635</td>\n",
       "      <td>80</td>\n",
       "      <td>0.0</td>\n",
       "      <td>5</td>\n",
       "      <td>27</td>\n",
       "      <td>32</td>\n",
       "      <td>2011</td>\n",
       "      <td>1</td>\n",
       "      <td>2</td>\n",
       "      <td>5</td>\n",
       "    </tr>\n",
       "    <tr>\n",
       "      <th>3</th>\n",
       "      <td>2011-01-01 03:00:00</td>\n",
       "      <td>1</td>\n",
       "      <td>0</td>\n",
       "      <td>0</td>\n",
       "      <td>1</td>\n",
       "      <td>9.84</td>\n",
       "      <td>14.395</td>\n",
       "      <td>75</td>\n",
       "      <td>0.0</td>\n",
       "      <td>3</td>\n",
       "      <td>10</td>\n",
       "      <td>13</td>\n",
       "      <td>2011</td>\n",
       "      <td>1</td>\n",
       "      <td>3</td>\n",
       "      <td>5</td>\n",
       "    </tr>\n",
       "    <tr>\n",
       "      <th>4</th>\n",
       "      <td>2011-01-01 04:00:00</td>\n",
       "      <td>1</td>\n",
       "      <td>0</td>\n",
       "      <td>0</td>\n",
       "      <td>1</td>\n",
       "      <td>9.84</td>\n",
       "      <td>14.395</td>\n",
       "      <td>75</td>\n",
       "      <td>0.0</td>\n",
       "      <td>0</td>\n",
       "      <td>1</td>\n",
       "      <td>1</td>\n",
       "      <td>2011</td>\n",
       "      <td>1</td>\n",
       "      <td>4</td>\n",
       "      <td>5</td>\n",
       "    </tr>\n",
       "  </tbody>\n",
       "</table>\n",
       "</div>"
      ],
      "text/plain": [
       "              datetime  season  holiday  workingday  weather  temp   atemp  \\\n",
       "0  2011-01-01 00:00:00       1        0           0        1  9.84  14.395   \n",
       "1  2011-01-01 01:00:00       1        0           0        1  9.02  13.635   \n",
       "2  2011-01-01 02:00:00       1        0           0        1  9.02  13.635   \n",
       "3  2011-01-01 03:00:00       1        0           0        1  9.84  14.395   \n",
       "4  2011-01-01 04:00:00       1        0           0        1  9.84  14.395   \n",
       "\n",
       "   humidity  windspeed  casual  registered  count  year  month  hour  \\\n",
       "0        81        0.0       3          13     16  2011      1     0   \n",
       "1        80        0.0       8          32     40  2011      1     1   \n",
       "2        80        0.0       5          27     32  2011      1     2   \n",
       "3        75        0.0       3          10     13  2011      1     3   \n",
       "4        75        0.0       0           1      1  2011      1     4   \n",
       "\n",
       "   dayofweek  \n",
       "0          5  \n",
       "1          5  \n",
       "2          5  \n",
       "3          5  \n",
       "4          5  "
      ]
     },
     "execution_count": 5,
     "metadata": {},
     "output_type": "execute_result"
    }
   ],
   "source": [
    "# let's take datetime (which isn't very useful to algorithms) and turn it into something useful.\n",
    "# e.g. this will create a new column for the hour\n",
    "def hour_of_day(dt):\n",
    "    return datetime.strptime(dt, \"%Y-%m-%d %H:%M:%S\").time().hour\n",
    "def month_of_day(dt):\n",
    "    return datetime.strptime(dt,\"%Y-%m-%d %H:%M:%S\").date().month\n",
    "def year_of_day(dt): \n",
    "    return datetime.strptime(dt,\"%Y-%m-%d %H:%M:%S\").date().year\n",
    "train_df['year'] = train_df['datetime'].map(year_of_day)\n",
    "train_df['month'] = train_df['datetime'].map(month_of_day)\n",
    "train_df['hour'] = train_df['datetime'].map(hour_of_day)\n",
    "train_df['dayofweek'] = pd.DatetimeIndex(train_df['datetime']).dayofweek\n",
    "train_df.head()\n",
    "# note the new column on the right labelled \"hour\""
   ]
  },
  {
   "cell_type": "markdown",
   "metadata": {
    "id": "Ste_7Bgk6DU-"
   },
   "source": [
    "# Make visualizations to better understand your data"
   ]
  },
  {
   "cell_type": "code",
   "execution_count": 6,
   "metadata": {
    "id": "unv1EkewJDQ8"
   },
   "outputs": [
    {
     "name": "stdout",
     "output_type": "stream",
     "text": [
      "seasons [1 2 3 4]\n"
     ]
    }
   ],
   "source": [
    "season = np.unique(train_df['season'])\n",
    "print(\"seasons\", season)\n",
    "\n",
    "spring_df = train_df[ (train_df['season'] == 1)]\n",
    "summer_df = train_df[ (train_df['season'] == 2)]\n",
    "fall_df = train_df[ (train_df['season'] == 3 )]\n",
    "winter_df = train_df[ (train_df['season'] == 4)]"
   ]
  },
  {
   "cell_type": "code",
   "execution_count": 7,
   "metadata": {
    "id": "ohR-a14KJ_2C"
   },
   "outputs": [
    {
     "name": "stdout",
     "output_type": "stream",
     "text": [
      "hours: [ 0  1  2  3  4  5  6  7  8  9 10 11 12 13 14 15 16 17 18 19 20 21 22 23]\n",
      "0 26.0625\n",
      "1 16.916666666666668\n",
      "2 12.188888888888888\n",
      "3 7.666666666666667\n",
      "4 3.3411764705882354\n",
      "5 10.24731182795699\n",
      "6 42.854166666666664\n",
      "7 125.625\n",
      "8 256.1770833333333\n",
      "9 152.0625\n",
      "10 94.41666666666667\n",
      "11 113.28125\n",
      "12 144.39583333333334\n",
      "13 149.9375\n",
      "14 138.76041666666666\n",
      "15 145.70833333333334\n",
      "16 176.95833333333334\n",
      "17 272.71875\n",
      "18 248.57291666666666\n",
      "19 168.51041666666666\n",
      "20 120.08333333333333\n",
      "21 92.09375\n",
      "22 69.85416666666667\n",
      "23 43.21875\n"
     ]
    },
    {
     "data": {
      "text/plain": [
       "Text(0.5, 1.0, 'Measured bike use over 2 springs')"
      ]
     },
     "execution_count": 7,
     "metadata": {},
     "output_type": "execute_result"
    },
    {
     "data": {
      "image/png": "[encoded data removed]",
      "text/plain": [
       "<Figure size 432x288 with 1 Axes>"
      ]
     },
     "metadata": {
      "needs_background": "light"
     },
     "output_type": "display_data"
    }
   ],
   "source": [
    "hours = np.unique(train_df['hour'])\n",
    "print(\"hours:\",hours)\n",
    "\n",
    "hours_mean = {}\n",
    "for h in hours:\n",
    "    temp_df = spring_df.loc[spring_df['hour'] == h]\n",
    "    hours_mean[h] = temp_df['count'].mean()\n",
    "    print(h,hours_mean[h])\n",
    "\n",
    "# plot the results. Maybe should see peaks from bike commuting or evening use\n",
    "plt.bar(hours,[hours_mean[h] for h in hours])\n",
    "plt.xlabel(\"hour\")\n",
    "plt.ylabel(\"average number of bikes used\")\n",
    "plt.title(\"Measured bike use over 2 springs\")"
   ]
  },
  {
   "cell_type": "code",
   "execution_count": 8,
   "metadata": {
    "id": "_6eb3YX_Kabu"
   },
   "outputs": [
    {
     "name": "stdout",
     "output_type": "stream",
     "text": [
      "hours: [ 0  1  2  3  4  5  6  7  8  9 10 11 12 13 14 15 16 17 18 19 20 21 22 23]\n",
      "0 58.78125\n",
      "1 35.895833333333336\n",
      "2 23.21875\n",
      "3 11.680851063829786\n",
      "4 6.242105263157895\n",
      "5 20.1875\n",
      "6 82.42708333333333\n",
      "7 229.20833333333334\n",
      "8 386.1354166666667\n",
      "9 238.625\n",
      "10 191.72916666666666\n",
      "11 237.4375\n",
      "12 286.34375\n",
      "13 291.34375\n",
      "14 271.875\n",
      "15 284.40625\n",
      "16 356.65625\n",
      "17 530.2395833333334\n",
      "18 490.5208333333333\n",
      "19 367.3333333333333\n",
      "20 263.3229166666667\n",
      "21 197.63541666666666\n",
      "22 151.08333333333334\n",
      "23 100.51041666666667\n"
     ]
    },
    {
     "data": {
      "text/plain": [
       "Text(0.5, 1.0, 'Measured bike use over 2 summers')"
      ]
     },
     "execution_count": 8,
     "metadata": {},
     "output_type": "execute_result"
    },
    {
     "data": {
      "image/png": "[encoded data removed]",
      "text/plain": [
       "<Figure size 432x288 with 1 Axes>"
      ]
     },
     "metadata": {
      "needs_background": "light"
     },
     "output_type": "display_data"
    }
   ],
   "source": [
    "hours = np.unique(train_df['hour'])\n",
    "print(\"hours:\",hours)\n",
    "\n",
    "hours_mean = {}\n",
    "for h in hours:\n",
    "    temp_df = summer_df.loc[summer_df['hour'] == h]\n",
    "    hours_mean[h] = temp_df['count'].mean()\n",
    "    print(h,hours_mean[h])\n",
    "\n",
    "# plot the results. Maybe should see peaks from bike commuting or evening use\n",
    "plt.bar(hours,[hours_mean[h] for h in hours])\n",
    "plt.xlabel(\"hour\")\n",
    "plt.ylabel(\"average number of bikes used\")\n",
    "plt.title(\"Measured bike use over 2 summers\")"
   ]
  },
  {
   "cell_type": "code",
   "execution_count": 9,
   "metadata": {
    "id": "7gEyUZuH6DU_"
   },
   "outputs": [
    {
     "name": "stdout",
     "output_type": "stream",
     "text": [
      "hours: [ 0  1  2  3  4  5  6  7  8  9 10 11 12 13 14 15 16 17 18 19 20 21 22 23]\n",
      "0 55.307291666666664\n",
      "1 34.005221932114885\n",
      "2 22.785145888594165\n",
      "3 11.843835616438357\n",
      "4 6.349462365591398\n",
      "5 19.62204724409449\n",
      "6 75.59375\n",
      "7 211.3359375\n",
      "8 360.078125\n",
      "9 220.3203125\n",
      "10 173.75\n",
      "11 209.1328125\n",
      "12 256.2265625\n",
      "13 257.546875\n",
      "14 242.84635416666666\n",
      "15 252.71354166666666\n",
      "16 315.1171875\n",
      "17 465.546875\n",
      "18 427.2526041666667\n",
      "19 314.0364583333333\n",
      "20 227.37760416666666\n",
      "21 172.49479166666666\n",
      "22 133.27864583333334\n",
      "23 89.99739583333333\n"
     ]
    },
    {
     "data": {
      "text/plain": [
       "Text(0.5, 1.0, 'Measured bike use over 2 years')"
      ]
     },
     "execution_count": 9,
     "metadata": {},
     "output_type": "execute_result"
    },
    {
     "data": {
      "image/png": "[encoded data removed]",
      "text/plain": [
       "<Figure size 432x288 with 1 Axes>"
      ]
     },
     "metadata": {
      "needs_background": "light"
     },
     "output_type": "display_data"
    }
   ],
   "source": [
    "# now let's take a look at the amerage amount of bike use for each hour of the day\n",
    "# as a \"sanity check\" to make sure the data makes sense before going further\n",
    "hours = np.unique(train_df['hour'])\n",
    "print(\"hours:\",hours)\n",
    "\n",
    "hours_mean = {}\n",
    "for h in hours:\n",
    "    temp_df = train_df.loc[train_df['hour'] == h]\n",
    "    hours_mean[h] = temp_df['count'].mean()\n",
    "    print(h,hours_mean[h])\n",
    "\n",
    "# plot the results. Maybe should see peaks from bike commuting or evening use\n",
    "plt.bar(hours,[hours_mean[h] for h in hours])\n",
    "plt.xlabel(\"hour\")\n",
    "plt.ylabel(\"average number of bikes used\")\n",
    "plt.title(\"Measured bike use over 2 years\")"
   ]
  },
  {
   "cell_type": "code",
   "execution_count": 10,
   "metadata": {
    "id": "IyTcVaSGIjwv"
   },
   "outputs": [
    {
     "name": "stdout",
     "output_type": "stream",
     "text": [
      "hours: [ 0  1  2  3  4  5  6  7  8  9 10 11 12 13 14 15 16 17 18 19 20 21 22 23]\n",
      "0 45.0390625\n",
      "1 27.558746736292427\n",
      "2 18.013262599469495\n",
      "3 9.186301369863013\n",
      "4 5.099462365591398\n",
      "5 18.15223097112861\n",
      "6 71.48177083333333\n",
      "7 200.7421875\n",
      "8 338.8776041666667\n",
      "9 189.84114583333334\n",
      "10 127.9296875\n",
      "11 149.20052083333334\n",
      "12 187.82552083333334\n",
      "13 183.94010416666666\n",
      "14 166.8203125\n",
      "15 177.78125\n",
      "16 241.10677083333334\n",
      "17 391.2291666666667\n",
      "18 366.5963541666667\n",
      "19 265.0963541666667\n",
      "20 190.60677083333334\n",
      "21 143.69270833333334\n",
      "22 110.734375\n",
      "23 74.5\n"
     ]
    },
    {
     "data": {
      "text/plain": [
       "Text(0.5, 1.0, 'Measured bike use over 2 years')"
      ]
     },
     "execution_count": 10,
     "metadata": {},
     "output_type": "execute_result"
    },
    {
     "data": {
      "image/png": "[encoded data removed]",
      "text/plain": [
       "<Figure size 432x288 with 1 Axes>"
      ]
     },
     "metadata": {
      "needs_background": "light"
     },
     "output_type": "display_data"
    }
   ],
   "source": [
    "hours = np.unique(train_df['hour'])\n",
    "print(\"hours:\",hours)\n",
    "\n",
    "hours_mean = {}\n",
    "for h in hours:\n",
    "    temp_df = train_df.loc[train_df['hour'] == h]\n",
    "    hours_mean[h] = temp_df['registered'].mean()\n",
    "    print(h,hours_mean[h])\n",
    "\n",
    "# plot the results. Maybe should see peaks from bike commuting or evening use\n",
    "plt.bar(hours,[hours_mean[h] for h in hours])\n",
    "plt.xlabel(\"hour\")\n",
    "plt.ylabel(\"average number of bikes used\")\n",
    "plt.title(\"Measured bike use over 2 years\")"
   ]
  },
  {
   "cell_type": "code",
   "execution_count": 11,
   "metadata": {
    "id": "h_CvrVzoIaBn"
   },
   "outputs": [
    {
     "name": "stdout",
     "output_type": "stream",
     "text": [
      "hours: [ 0  1  2  3  4  5  6  7  8  9 10 11 12 13 14 15 16 17 18 19 20 21 22 23]\n",
      "0 10.268229166666666\n",
      "1 6.446475195822455\n",
      "2 4.771883289124668\n",
      "3 2.6575342465753424\n",
      "4 1.25\n",
      "5 1.4698162729658792\n",
      "6 4.111979166666667\n",
      "7 10.59375\n",
      "8 21.200520833333332\n",
      "9 30.479166666666668\n",
      "10 45.8203125\n",
      "11 59.932291666666664\n",
      "12 68.40104166666667\n",
      "13 73.60677083333333\n",
      "14 76.02604166666667\n",
      "15 74.93229166666667\n",
      "16 74.01041666666667\n",
      "17 74.31770833333333\n",
      "18 60.65625\n",
      "19 48.940104166666664\n",
      "20 36.770833333333336\n",
      "21 28.802083333333332\n",
      "22 22.544270833333332\n",
      "23 15.497395833333334\n"
     ]
    },
    {
     "data": {
      "text/plain": [
       "Text(0.5, 1.0, 'Measured bike use over 2 years')"
      ]
     },
     "execution_count": 11,
     "metadata": {},
     "output_type": "execute_result"
    },
    {
     "data": {
      "image/png": "[encoded data removed]",
      "text/plain": [
       "<Figure size 432x288 with 1 Axes>"
      ]
     },
     "metadata": {
      "needs_background": "light"
     },
     "output_type": "display_data"
    }
   ],
   "source": [
    "hours = np.unique(train_df['hour'])\n",
    "print(\"hours:\",hours)\n",
    "\n",
    "hours_mean = {}\n",
    "for h in hours:\n",
    "    temp_df = train_df.loc[train_df['hour'] == h]\n",
    "    hours_mean[h] = temp_df['casual'].mean()\n",
    "    print(h,hours_mean[h])\n",
    "\n",
    "# plot the results. Maybe should see peaks from bike commuting or evening use\n",
    "plt.bar(hours,[hours_mean[h] for h in hours])\n",
    "plt.xlabel(\"hour\")\n",
    "plt.ylabel(\"average number of bikes used\")\n",
    "plt.title(\"Measured bike use over 2 years\")"
   ]
  },
  {
   "cell_type": "code",
   "execution_count": 12,
   "metadata": {
    "id": "Z2vRpXpYDMhM"
   },
   "outputs": [
    {
     "name": "stdout",
     "output_type": "stream",
     "text": [
      "temp: [ 0.82  1.64  2.46  3.28  4.1   4.92  5.74  6.56  7.38  8.2   9.02  9.84\n",
      " 10.66 11.48 12.3  13.12 13.94 14.76 15.58 16.4  17.22 18.04 18.86 19.68\n",
      " 20.5  21.32 22.14 22.96 23.78 24.6  25.42 26.24 27.06 27.88 28.7  29.52\n",
      " 30.34 31.16 31.98 32.8  33.62 34.44 35.26 36.08 36.9  37.72 38.54 39.36\n",
      " 41.  ] 49\n"
     ]
    },
    {
     "data": {
      "text/plain": [
       "Text(0.5, 1.0, 'Measured bike use over 2 years')"
      ]
     },
     "execution_count": 12,
     "metadata": {},
     "output_type": "execute_result"
    },
    {
     "data": {
      "image/png": "[encoded data removed]",
      "text/plain": [
       "<Figure size 432x288 with 1 Axes>"
      ]
     },
     "metadata": {
      "needs_background": "light"
     },
     "output_type": "display_data"
    }
   ],
   "source": [
    "temp = np.unique(train_df['temp'])\n",
    "print(\"temp:\", temp, temp.size)\n",
    "\n",
    "temp_mean = {}\n",
    "for t in temp:\n",
    "  temp_df = train_df.loc[train_df['temp'] == t]\n",
    "  temp_mean[t] = temp_df['count'].mean()\n",
    "\n",
    "plt.bar(temp,[temp_mean[t] for t in temp])\n",
    "plt.xlabel(\"temp\")\n",
    "plt.ylabel(\"average number of bikes used\")\n",
    "plt.title(\"Measured bike use over 2 years\")"
   ]
  },
  {
   "cell_type": "code",
   "execution_count": 13,
   "metadata": {
    "id": "q2hA_opUHPI9"
   },
   "outputs": [
    {
     "name": "stdout",
     "output_type": "stream",
     "text": [
      "temp: [ 0.82  1.64  2.46  3.28  4.1   4.92  5.74  6.56  7.38  8.2   9.02  9.84\n",
      " 10.66 11.48 12.3  13.12 13.94 14.76 15.58 16.4  17.22 18.04 18.86 19.68\n",
      " 20.5  21.32 22.14 22.96 23.78 24.6  25.42 26.24 27.06 27.88 28.7  29.52\n",
      " 30.34 31.16 31.98 32.8  33.62 34.44 35.26 36.08 36.9  37.72 38.54 39.36\n",
      " 41.  ] 49\n"
     ]
    },
    {
     "data": {
      "text/plain": [
       "Text(0.5, 1.0, 'Measured bike use over 2 years')"
      ]
     },
     "execution_count": 13,
     "metadata": {},
     "output_type": "execute_result"
    },
    {
     "data": {
      "image/png": "[encoded data removed]",
      "text/plain": [
       "<Figure size 432x288 with 1 Axes>"
      ]
     },
     "metadata": {
      "needs_background": "light"
     },
     "output_type": "display_data"
    }
   ],
   "source": [
    "temp = np.unique(train_df['temp'])\n",
    "print(\"temp:\", temp, temp.size)\n",
    "\n",
    "temp_mean = {}\n",
    "for t in temp:\n",
    "  temp_df = train_df.loc[train_df['temp'] == t]\n",
    "  temp_mean[t] = temp_df['casual'].mean()\n",
    "\n",
    "plt.bar(temp,[temp_mean[t] for t in temp])\n",
    "plt.xlabel(\"temp\")\n",
    "plt.ylabel(\"average number of bikes used\")\n",
    "plt.title(\"Measured bike use over 2 years\")"
   ]
  },
  {
   "cell_type": "code",
   "execution_count": 14,
   "metadata": {
    "id": "79642kUrHRbz"
   },
   "outputs": [
    {
     "name": "stdout",
     "output_type": "stream",
     "text": [
      "temp: [ 0.82  1.64  2.46  3.28  4.1   4.92  5.74  6.56  7.38  8.2   9.02  9.84\n",
      " 10.66 11.48 12.3  13.12 13.94 14.76 15.58 16.4  17.22 18.04 18.86 19.68\n",
      " 20.5  21.32 22.14 22.96 23.78 24.6  25.42 26.24 27.06 27.88 28.7  29.52\n",
      " 30.34 31.16 31.98 32.8  33.62 34.44 35.26 36.08 36.9  37.72 38.54 39.36\n",
      " 41.  ] 49\n"
     ]
    },
    {
     "data": {
      "text/plain": [
       "Text(0.5, 1.0, 'Measured bike use over 2 years')"
      ]
     },
     "execution_count": 14,
     "metadata": {},
     "output_type": "execute_result"
    },
    {
     "data": {
      "image/png": "[encoded data removed]",
      "text/plain": [
       "<Figure size 432x288 with 1 Axes>"
      ]
     },
     "metadata": {
      "needs_background": "light"
     },
     "output_type": "display_data"
    }
   ],
   "source": [
    "temp = np.unique(train_df['temp'])\n",
    "print(\"temp:\", temp, temp.size)\n",
    "\n",
    "temp_mean = {}\n",
    "for t in temp:\n",
    "  temp_df = train_df.loc[train_df['temp'] == t]\n",
    "  temp_mean[t] = temp_df['registered'].mean()\n",
    "\n",
    "plt.bar(temp,[temp_mean[t] for t in temp])\n",
    "plt.xlabel(\"temp\")\n",
    "plt.ylabel(\"average number of bikes used\")\n",
    "plt.title(\"Measured bike use over 2 years\")"
   ]
  },
  {
   "cell_type": "code",
   "execution_count": 15,
   "metadata": {
    "id": "8jRYNL44F9dj"
   },
   "outputs": [
    {
     "name": "stdout",
     "output_type": "stream",
     "text": [
      "windspeed: [ 0.      6.0032  7.0015  8.9981 11.0014 12.998  15.0013 16.9979 19.0012\n",
      " 19.9995 22.0028 23.9994 26.0027 27.9993 30.0026 31.0009 32.9975 35.0008\n",
      " 36.9974 39.0007 40.9973 43.0006 43.9989 46.0022 47.9988 51.9987 56.9969] 27\n"
     ]
    },
    {
     "data": {
      "text/plain": [
       "Text(0.5, 1.0, 'Measured bike use over 2 years')"
      ]
     },
     "execution_count": 15,
     "metadata": {},
     "output_type": "execute_result"
    },
    {
     "data": {
      "image/png": "[encoded data removed]",
      "text/plain": [
       "<Figure size 432x288 with 1 Axes>"
      ]
     },
     "metadata": {
      "needs_background": "light"
     },
     "output_type": "display_data"
    }
   ],
   "source": [
    "windspeed = np.unique(train_df['windspeed'])\n",
    "print(\"windspeed:\", windspeed, windspeed.size)\n",
    "\n",
    "windspeed_mean = {}\n",
    "for w in windspeed:\n",
    "  temp_df = train_df.loc[train_df['windspeed'] == w]\n",
    "  windspeed_mean[w] = temp_df['casual'].mean()\n",
    "\n",
    "plt.bar(windspeed,[windspeed_mean[w] for w in windspeed])\n",
    "plt.xlabel(\"windspeed\")\n",
    "plt.ylabel(\"average number of bikes used\")\n",
    "plt.title(\"Measured bike use over 2 years\")"
   ]
  },
  {
   "cell_type": "code",
   "execution_count": 16,
   "metadata": {
    "id": "dY0sNDnF95q7"
   },
   "outputs": [
    {
     "name": "stdout",
     "output_type": "stream",
     "text": [
      "humidity: [  0  15  16  17  18  19  20  21  22  23  24  25  26  27  28  29  30  31\n",
      "  32  33  34  35  36  37  38  39  40  41  42  43  44  45  46  47  48  49\n",
      "  50  51  52  53  54  55  56  57  58  59  60  61  62  63  64  65  66  67\n",
      "  68  69  70  71  72  73  74  75  76  77  78  79  80  81  82  83  84  85\n",
      "  86  87  88  89  90  91  92  93  94  97 100] 83\n"
     ]
    },
    {
     "data": {
      "text/plain": [
       "Text(0.5, 1.0, 'Measured bike use over 2 years')"
      ]
     },
     "execution_count": 16,
     "metadata": {},
     "output_type": "execute_result"
    },
    {
     "data": {
      "image/png": "[encoded data removed]",
      "text/plain": [
       "<Figure size 432x288 with 1 Axes>"
      ]
     },
     "metadata": {
      "needs_background": "light"
     },
     "output_type": "display_data"
    }
   ],
   "source": [
    "humidity = np.unique(train_df['humidity'])\n",
    "print(\"humidity:\", humidity, humidity.size)\n",
    "\n",
    "humidity_mean = {}\n",
    "for h in humidity:\n",
    "  temp_df = train_df.loc[train_df['humidity'] == h ]\n",
    "  humidity_mean[h] = temp_df['count'].mean()\n",
    "\n",
    "plt.bar(humidity,[humidity_mean[h] for h in humidity])\n",
    "plt.xlabel(\"humidity\")\n",
    "plt.ylabel(\"average number of bikes used\")\n",
    "plt.title(\"Measured bike use over 2 years\")"
   ]
  },
  {
   "cell_type": "markdown",
   "metadata": {
    "id": "HZ2zd45G6DU_"
   },
   "source": [
    "# Pick the features and the model"
   ]
  },
  {
   "cell_type": "code",
   "execution_count": 17,
   "metadata": {
    "id": "9ETBLQQS6DU_"
   },
   "outputs": [
    {
     "name": "stdout",
     "output_type": "stream",
     "text": [
      "RandomForestRegressor()\n"
     ]
    }
   ],
   "source": [
    "# pick your features\n",
    "cols = ['hour', 'month', 'workingday', 'year', 'weather', 'season', 'temp', 'atemp', 'humidity', 'windspeed','season','dayofweek'] \n",
    "# cols = ['hour', 'month', 'workingday', 'year', 'weather'] # RMS error: ~ 60 #DT broke under 59 for 1 run\n",
    "# cols = ['hour', 'month', 'workingday', 'year'] # RMS error: ~ 60 #DT\n",
    "# cols = ['hour', 'month', 'workingday', 'season'] # RMS error: ~ 87 #DT\n",
    "# cols = ['hour','month', 'workingday'] # RMS error: ~ 88.50522707578871 #DT\n",
    "# cols = ['hour','month'] # RMS error : ~ 115.20136523892982 #DT\n",
    "# try more features later, like...\n",
    "# cols = ['hour','season']\n",
    "\n",
    "# pick your model (you should consider adjusting optional parameters too)\n",
    "# reading in a few models we can pick from (there are many others)\n",
    "from sklearn.tree import DecisionTreeRegressor\n",
    "from sklearn.linear_model import LinearRegression\n",
    "from sklearn.neighbors import KNeighborsRegressor\n",
    "from sklearn.svm import LinearSVR\n",
    "from sklearn.ensemble import RandomForestRegressor\n",
    "\n",
    "# pick one by commenting/uncommenting\n",
    "#model = DecisionTreeRegressor()\n",
    "#model = LinearRegression()\n",
    "#model = KNeighborsRegressor(n_neighbors = 5)\n",
    "#model = LinearSVR()\n",
    "model = RandomForestRegressor(n_estimators = 100)\n",
    "model2 = RandomForestRegressor(n_estimators = 100)\n",
    "\n",
    "#print(\"columns selected for later:\",cols)\n",
    "print(model) # to get an idea of parameters and confirm model chosen"
   ]
  },
  {
   "cell_type": "markdown",
   "metadata": {
    "id": "x7H0LHjF6DVA"
   },
   "source": [
    "# Separate your training and test sets"
   ]
  },
  {
   "cell_type": "code",
   "execution_count": 18,
   "metadata": {
    "id": "GWhZ9Ct46DVA"
   },
   "outputs": [
    {
     "name": "stdout",
     "output_type": "stream",
     "text": [
      "samples in the new training subset: 6880\n",
      "samples in the new test subset: 2294\n"
     ]
    }
   ],
   "source": [
    "y = train_df['count']\n",
    "\n",
    "# this is a way of splitting training and testing by hand\n",
    "# however, there are tools to do this automatically\n",
    "# google \"cross validation\" for a better/more advanced strategy\n",
    "#--------------------\n",
    "\n",
    "n = len(train_df) # get number of rows in the training set\n",
    "training_size = 0.75 # fraction of training data to split off for internal testing\n",
    "\n",
    "# set up separate training and testing sets\n",
    "# in this case using shuffled array indices\n",
    "# there are many more ways to do this too\n",
    "indices = np.array(range(n)) # makes an array of row indices in order\n",
    "from numpy.random import shuffle\n",
    "shuffle(indices)\n",
    "split_point = int(n*training_size)\n",
    "mytrain_i = indices[0:split_point]\n",
    "mytest_i = indices[split_point:]\n",
    "\n",
    "# now use those shuffled indices to separating training from test dataframes\n",
    "new_train_df = train_df.iloc[mytrain_i]\n",
    "new_test_df = train_df.iloc[mytest_i]\n",
    "y_train = y[mytrain_i]\n",
    "y_test = y[mytest_i]\n",
    "\n",
    "print(\"samples in the new training subset:\",len(new_train_df))\n",
    "print(\"samples in the new test subset:\",len(new_test_df))"
   ]
  },
  {
   "cell_type": "markdown",
   "metadata": {
    "id": "GwZijj2YK8Xs"
   },
   "source": [
    "## Separating training and validation sets based off season"
   ]
  },
  {
   "cell_type": "code",
   "execution_count": 19,
   "metadata": {
    "id": "LliOVni1K7sU"
   },
   "outputs": [],
   "source": [
    "spring_train_df = new_train_df[ (new_train_df['season'] == 1)]\n",
    "summer_train_df = new_train_df[ (new_train_df['season'] == 2)]\n",
    "fall_train_df = new_train_df[ (new_train_df['season'] == 3 )]\n",
    "winter_train_df = new_train_df[ (new_train_df['season'] == 4)]\n",
    "\n",
    "spring_validation_df = new_test_df[ (new_test_df['season'] == 1)]\n",
    "summer_validation_df = new_test_df[ (new_test_df['season'] == 2)]\n",
    "fall_validation_df = new_test_df[ (new_test_df['season'] == 3 )]\n",
    "winter_validation_df = new_test_df[ (new_test_df['season'] == 4)]\n",
    "\n",
    "non_spring_train_df = new_train_df[ (new_train_df['season'] != 1)]\n",
    "non_spring_validation_df = new_test_df[ (new_test_df['season'] != 1)]"
   ]
  },
  {
   "cell_type": "markdown",
   "metadata": {
    "id": "Nbq3UWHUXc8M"
   },
   "source": [
    "## Separating training and validation sets based off working day"
   ]
  },
  {
   "cell_type": "code",
   "execution_count": 20,
   "metadata": {
    "id": "5PQb1mlkXjd7"
   },
   "outputs": [],
   "source": [
    "is_working_train_df = new_train_df[ (new_train_df['workingday'] == 1)]\n",
    "non_working_train_df = new_train_df[ (new_train_df['workingday'] == 0)]\n",
    "\n",
    "is_working_validation_df = new_test_df[ (new_test_df['workingday'] == 1)]\n",
    "non_working_validation_df = new_test_df[ (new_test_df['workingday'] == 0)]"
   ]
  },
  {
   "cell_type": "markdown",
   "metadata": {
    "id": "gwzS3ALz6DVB"
   },
   "source": [
    "# Fit the model to a portion of the training set, test on the rest and evaluate"
   ]
  },
  {
   "cell_type": "code",
   "execution_count": 21,
   "metadata": {
    "id": "Yma9go0w6DVB"
   },
   "outputs": [
    {
     "name": "stdout",
     "output_type": "stream",
     "text": [
      "RMS error: 38.69904608210688\n"
     ]
    }
   ],
   "source": [
    "# fit the model to the training subset of original training data\n",
    "model.fit(new_train_df[cols], new_train_df['count'])\n",
    "\n",
    "# predict on the testing subset of the original training data\n",
    "pred_count = model.predict(new_test_df[cols])\n",
    "\n",
    "\n",
    "# score the model on the new test set\n",
    "from sklearn.metrics import mean_squared_error\n",
    "rms = np.sqrt(mean_squared_error(new_test_df['count'],pred_count))\n",
    "print(\"RMS error:\",rms)"
   ]
  },
  {
   "cell_type": "markdown",
   "metadata": {
    "id": "LbYfqgSLYiz3"
   },
   "source": [
    "## Testing workingday vs nonworking day models"
   ]
  },
  {
   "cell_type": "code",
   "execution_count": 22,
   "metadata": {
    "id": "e_C0oZvaYmxX"
   },
   "outputs": [
    {
     "name": "stdout",
     "output_type": "stream",
     "text": [
      "RMS error: 38.8513777237845\n",
      "RMS error: 42.77678166118258\n",
      "RMS error: 40.21692896019722\n"
     ]
    }
   ],
   "source": [
    "model.fit(is_working_train_df[cols], is_working_train_df['count'])\n",
    "is_working_pred_count = model.predict(is_working_validation_df[cols])\n",
    "\n",
    "model.fit(non_working_train_df[cols], non_working_train_df['count'])\n",
    "non_working_pred_count = model.predict(non_working_validation_df[cols])\n",
    "\n",
    "rms = np.sqrt(mean_squared_error(is_working_validation_df['count'],is_working_pred_count ))\n",
    "print(\"RMS error:\",rms)\n",
    "\n",
    "rms = np.sqrt(mean_squared_error(non_working_validation_df['count'],non_working_pred_count ))\n",
    "print(\"RMS error:\",rms)\n",
    "\n",
    "working_non_working_combined_pred_count = np.concatenate( (is_working_pred_count ,non_working_pred_count))\n",
    "\n",
    "working_non_working_df = [is_working_validation_df, non_working_validation_df]\n",
    "working_non_working_df = pd.concat(working_non_working_df, sort = False)\n",
    "\n",
    "rms = np.sqrt(mean_squared_error(working_non_working_df['count'],working_non_working_combined_pred_count ))\n",
    "print(\"RMS error:\",rms)"
   ]
  },
  {
   "cell_type": "markdown",
   "metadata": {
    "id": "razXye5JXXPO"
   },
   "source": [
    "## Testing casual vs registered"
   ]
  },
  {
   "cell_type": "code",
   "execution_count": 23,
   "metadata": {
    "id": "FI9zNVPmTE9v"
   },
   "outputs": [
    {
     "name": "stdout",
     "output_type": "stream",
     "text": [
      "RMS error - testing data: 37.816349833777956\n",
      "RMS error - training data: 14.93327386571854\n"
     ]
    }
   ],
   "source": [
    "#Fit and predict for casual users\n",
    "model.fit(new_train_df[cols], new_train_df['casual'])\n",
    "pred_test_casual = model.predict(new_test_df[cols])\n",
    "pred_train_casual = model.predict(new_train_df[cols])\n",
    "\n",
    "#Fit and predict for registered users\n",
    "model2.fit(new_train_df[cols], new_train_df['registered'])\n",
    "pred_test_registered = model2.predict(new_test_df[cols])\n",
    "pred_train_registered = model2.predict(new_train_df[cols])\n",
    "\n",
    "pred_test = pred_test_casual + pred_test_registered\n",
    "pred_train = pred_train_casual + pred_train_registered\n",
    "\n",
    "# score the model on the new test set\n",
    "from sklearn.metrics import mean_squared_error\n",
    "rms = np.sqrt(mean_squared_error(y_test,pred_test))\n",
    "print(\"RMS error - testing data:\",rms)\n",
    "rm2 = np.sqrt(mean_squared_error(y_train,pred_train))\n",
    "print(\"RMS error - training data:\",rm2)"
   ]
  },
  {
   "cell_type": "markdown",
   "metadata": {
    "id": "bTgM2sv6MGFY"
   },
   "source": [
    "## Testing our seasonal models"
   ]
  },
  {
   "cell_type": "code",
   "execution_count": 24,
   "metadata": {
    "id": "-MkaaQvBMKVr"
   },
   "outputs": [
    {
     "name": "stdout",
     "output_type": "stream",
     "text": [
      "just Spring RMS error: 30.262231851248266\n",
      "just Summer RMS error: 47.28750348585463\n",
      "just Fall RMS error: 41.52978616424273\n",
      "just Winter RMS error: 41.34288934184726\n",
      "Combined RMS error: 40.752811888871015\n",
      "Non-spring RMS error: 41.234471744605564\n",
      "Non-spring + spring RMS error: 38.86060199865269\n"
     ]
    }
   ],
   "source": [
    "#cols = ['hour']\n",
    "model.fit(spring_train_df[cols], spring_train_df['count'])\n",
    "spring_pred_count = model.predict(spring_validation_df[cols])\n",
    "\n",
    "model.fit(summer_train_df[cols], summer_train_df['count'])\n",
    "summer_pred_count = model.predict(summer_validation_df[cols])\n",
    "\n",
    "model.fit(fall_train_df[cols], fall_train_df['count'])\n",
    "fall_pred_count = model.predict(fall_validation_df[cols])\n",
    "\n",
    "model.fit(winter_train_df[cols], winter_train_df['count'])\n",
    "winter_pred_count = model.predict(winter_validation_df[cols])\n",
    "\n",
    "model.fit(non_spring_train_df[cols], non_spring_train_df['count'])\n",
    "non_spring_pred_count = model.predict(non_spring_validation_df[cols])\n",
    "\n",
    "rms = np.sqrt(mean_squared_error(spring_validation_df['count'],spring_pred_count))\n",
    "print(\"just Spring RMS error:\",rms)\n",
    "\n",
    "rms = np.sqrt(mean_squared_error(summer_validation_df['count'],summer_pred_count))\n",
    "print(\"just Summer RMS error:\",rms)\n",
    "\n",
    "rms = np.sqrt(mean_squared_error(fall_validation_df['count'],fall_pred_count))\n",
    "print(\"just Fall RMS error:\",rms)\n",
    "\n",
    "rms = np.sqrt(mean_squared_error(winter_validation_df['count'],winter_pred_count))\n",
    "print(\"just Winter RMS error:\",rms)\n",
    "\n",
    "combined_pred_count = np.concatenate((spring_pred_count, summer_pred_count, fall_pred_count, winter_pred_count))\n",
    "\n",
    "combined_df = [spring_validation_df, summer_validation_df,  fall_validation_df, winter_validation_df]\n",
    "combined_df = pd.concat(combined_df, sort=False)\n",
    "\n",
    "rms = np.sqrt(mean_squared_error(combined_df['count'],combined_pred_count))\n",
    "print(\"Combined RMS error:\",rms)\n",
    "\n",
    "rms = np.sqrt(mean_squared_error(non_spring_validation_df['count'], non_spring_pred_count))\n",
    "print(\"Non-spring RMS error:\",rms)\n",
    "\n",
    "spring_non_spring_combined_pred = np.concatenate( (spring_pred_count, non_spring_pred_count) )\n",
    "\n",
    "spring_non_spring_df = [spring_validation_df, non_spring_validation_df]\n",
    "spring_non_spring_df = pd.concat(spring_non_spring_df, sort = False)\n",
    "\n",
    "rms = np.sqrt(mean_squared_error(spring_non_spring_df['count'], spring_non_spring_combined_pred))\n",
    "print(\"Non-spring + spring RMS error:\",rms)"
   ]
  },
  {
   "cell_type": "markdown",
   "metadata": {
    "id": "qti_ALF56DVB"
   },
   "source": [
    "# Creating the test file output"
   ]
  },
  {
   "cell_type": "code",
   "execution_count": 25,
   "metadata": {},
   "outputs": [
    {
     "name": "stdout",
     "output_type": "stream",
     "text": [
      "\n",
      "Number of samples: 1712 and number of features: 9 \n",
      "\n",
      "Prediction complete. Saved as my_prediction.csv\n"
     ]
    }
   ],
   "source": [
    "# read in the test data\n",
    "test_df = pd.read_csv('test_luc.csv', header=0)\n",
    "print(\"\\nNumber of samples:\",test_df.shape[0] ,\"and number of features:\",test_df.shape[1],\"\\n\")\n",
    "\n",
    "# must add that new feature into the test data too, to use it in prediction\n",
    "test_df['year'] = test_df['datetime'].map(year_of_day)\n",
    "test_df['month'] = test_df['datetime'].map(month_of_day)\n",
    "test_df['hour'] = test_df['datetime'].map(hour_of_day)\n",
    "test_df['dayofweek'] = pd.DatetimeIndex(test_df['datetime']).dayofweek\n",
    "# show the test data output to be sure it read in correctly and added the column\n",
    "# test_df.head()\n",
    "# fit the selected model TO YOUR FULL TRAINING SET\n",
    "model.fit(train_df[cols], train_df['casual'])\n",
    "model2.fit(train_df[cols], train_df['registered'])\n",
    "\n",
    "# apply to the test data FOR WHICH YOU DON'T HAVE THE ANSWERS\n",
    "\n",
    "# (not the \"test set\" you used for model selection and tuning)\n",
    "pred_casual = model.predict(test_df[cols])\n",
    "pred_registered = model2.predict(test_df[cols])\n",
    "pred_count = pred_casual+pred_registered\n",
    "test_df.head()\n",
    "\n",
    "# add the prediction column (in case you want to inspect it later)\n",
    "test_df['count'] = pred_count\n",
    "\n",
    "# save the predicted count as a csv with a header column and datetime row\n",
    "test_df = test_df[['datetime','count']].to_csv('my_prediction.csv', \n",
    "    index=False, header=True)\n",
    "print(\"Prediction complete. Saved as my_prediction.csv\")"
   ]
  },
  {
   "cell_type": "code",
   "execution_count": null,
   "metadata": {},
   "outputs": [],
   "source": []
  }
 ],
 "metadata": {
  "anaconda-cloud": {},
  "colab": {
   "collapsed_sections": [],
   "name": "WORKING_KAGGLE.ipynb",
   "provenance": []
  },
  "kernelspec": {
   "display_name": "Python 3",
   "language": "python",
   "name": "python3"
  },
  "language_info": {
   "codemirror_mode": {
    "name": "ipython",
    "version": 3
   },
   "file_extension": ".py",
   "mimetype": "text/x-python",
   "name": "python",
   "nbconvert_exporter": "python",
   "pygments_lexer": "ipython3",
   "version": "3.8.5"
  }
 },
 "nbformat": 4,
 "nbformat_minor": 1
}
