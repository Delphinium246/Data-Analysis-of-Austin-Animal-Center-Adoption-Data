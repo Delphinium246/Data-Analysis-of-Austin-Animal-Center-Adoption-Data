{
 "cells": [
  {
   "cell_type": "code",
   "execution_count": 1,
   "metadata": {},
   "outputs": [],
   "source": [
    "# Because we learned in our data cleaning, exploratory data analysis, and data visualizations that the\n",
    "# Shelter Data were of poor quality, we decided to determine whether - if the shelter had cleaner data -\n",
    "# a Logistic Regression model could predict outcome.\n",
    "\n",
    "# For this model, we defined outcome as \"Placement\"= 1 (either adopted or returned to owner), or otherwise\n",
    "# \"Placement\" = 0 (all other outcomes -died, euthanasia, transferred, etc.)  So Placement=1 indicated the animal\n",
    "# was placed in a home, whether its previous home or a new home.\n",
    "\n",
    "# To assess whether such a model could be fit if the shelter had more accurate data, we removed all the observations\n",
    "# that had one or more clearly erroneous data points.  These included missing dates of birth, dates of birth later than\n",
    "# intake to the shelter, negative lengths of stay at the shelter, animals who were spayed/neutered when they arrived\n",
    "# but no longer spayed/neutered at outcome, unknown sex/age, etc.  \n",
    "\n",
    "# Since only 4 animals classified as Intake Type = Wildlife were placed in a home, this category would not help a\n",
    "# predictive model.  Therefore, we eliminated the Wildlife category for this analysis.  The same was true for Intake\n",
    "# Type = Euthanasia Request, which accounted for 0.2% of all intakes; this category and these records were also\n",
    "# eliminated.\n",
    "\n",
    "# After this cleaning, 108,399 observations remained.  This is a significant decrease from the original 126,000+\n",
    "# observations but still a large data set."
   ]
  },
  {
   "cell_type": "code",
   "execution_count": 2,
   "metadata": {},
   "outputs": [],
   "source": [
    "import pandas as pd \n",
    "%matplotlib inline\n",
    "import numpy as np\n",
    "import seaborn as sb\n",
    "import matplotlib.mlab as mlab\n",
    "import matplotlib.pyplot as plt\n",
    "import sklearn"
   ]
  },
  {
   "cell_type": "code",
   "execution_count": 3,
   "metadata": {},
   "outputs": [],
   "source": [
    "from pandas import Series, DataFrame\n",
    "from pylab import rcParams\n",
    "from sklearn import preprocessing\n",
    "from sklearn.linear_model import LogisticRegression\n",
    "from sklearn.model_selection import train_test_split\n",
    "from sklearn.model_selection import cross_val_predict\n",
    "from sklearn import metrics"
   ]
  },
  {
   "cell_type": "code",
   "execution_count": 4,
   "metadata": {},
   "outputs": [],
   "source": [
    "from sklearn.metrics import classification_report\n",
    "from sklearn.metrics import confusion_matrix\n",
    "from sklearn.metrics import precision_score, recall_score\n",
    "rcParams['figure.figsize']=5,4\n",
    "sb.set_style('whitegrid')"
   ]
  },
  {
   "cell_type": "code",
   "execution_count": 5,
   "metadata": {},
   "outputs": [
    {
     "name": "stdout",
     "output_type": "stream",
     "text": [
      "<class 'pandas.core.frame.DataFrame'>\n",
      "RangeIndex: 108399 entries, 0 to 108398\n",
      "Data columns (total 16 columns):\n",
      " #   Column                Non-Null Count   Dtype\n",
      "---  ------                --------------   -----\n",
      " 0   Intake Age in Months  108399 non-null  int64\n",
      " 1   Abandoned             108399 non-null  int64\n",
      " 2   Owner Surrender       108399 non-null  int64\n",
      " 3   Public Assist         108399 non-null  int64\n",
      " 4   Stray                 108399 non-null  int64\n",
      " 5   Normal                108399 non-null  int64\n",
      " 6   SickInj               108399 non-null  int64\n",
      " 7   PregNurs              108399 non-null  int64\n",
      " 8   Feral                 108399 non-null  int64\n",
      " 9   Bird                  108399 non-null  int64\n",
      " 10  Cat                   108399 non-null  int64\n",
      " 11  Dog                   108399 non-null  int64\n",
      " 12  Livestock             108399 non-null  int64\n",
      " 13  Other                 108399 non-null  int64\n",
      " 14  Male                  108399 non-null  int64\n",
      " 15  Placement             108399 non-null  int64\n",
      "dtypes: int64(16)\n",
      "memory usage: 13.2 MB\n",
      "None\n"
     ]
    }
   ],
   "source": [
    "LRData_df = pd.read_csv(\"Austin_Animal_Shelter_Dataset_LR.csv\")\n",
    "\n",
    "LRData_df.head()\n",
    "LRData_df[0:10]\n",
    "LRData_df.isnull().any()\n",
    "print(LRData_df.info())\n"
   ]
  },
  {
   "cell_type": "code",
   "execution_count": 6,
   "metadata": {},
   "outputs": [
    {
     "name": "stdout",
     "output_type": "stream",
     "text": [
      "(81299, 15)\n",
      "(81299,)\n"
     ]
    },
    {
     "data": {
      "text/html": [
       "<div>\n",
       "<style scoped>\n",
       "    .dataframe tbody tr th:only-of-type {\n",
       "        vertical-align: middle;\n",
       "    }\n",
       "\n",
       "    .dataframe tbody tr th {\n",
       "        vertical-align: top;\n",
       "    }\n",
       "\n",
       "    .dataframe thead th {\n",
       "        text-align: right;\n",
       "    }\n",
       "</style>\n",
       "<table border=\"1\" class=\"dataframe\">\n",
       "  <thead>\n",
       "    <tr style=\"text-align: right;\">\n",
       "      <th></th>\n",
       "      <th>Intake Age in Months</th>\n",
       "      <th>Abandoned</th>\n",
       "      <th>Owner Surrender</th>\n",
       "      <th>Public Assist</th>\n",
       "      <th>Stray</th>\n",
       "      <th>Normal</th>\n",
       "      <th>SickInj</th>\n",
       "      <th>PregNurs</th>\n",
       "      <th>Feral</th>\n",
       "      <th>Bird</th>\n",
       "      <th>Cat</th>\n",
       "      <th>Dog</th>\n",
       "      <th>Livestock</th>\n",
       "      <th>Other</th>\n",
       "      <th>Male</th>\n",
       "    </tr>\n",
       "  </thead>\n",
       "  <tbody>\n",
       "    <tr>\n",
       "      <th>35540</th>\n",
       "      <td>36</td>\n",
       "      <td>0</td>\n",
       "      <td>0</td>\n",
       "      <td>0</td>\n",
       "      <td>1</td>\n",
       "      <td>0</td>\n",
       "      <td>1</td>\n",
       "      <td>0</td>\n",
       "      <td>0</td>\n",
       "      <td>0</td>\n",
       "      <td>0</td>\n",
       "      <td>1</td>\n",
       "      <td>0</td>\n",
       "      <td>0</td>\n",
       "      <td>1</td>\n",
       "    </tr>\n",
       "    <tr>\n",
       "      <th>22727</th>\n",
       "      <td>10</td>\n",
       "      <td>0</td>\n",
       "      <td>1</td>\n",
       "      <td>0</td>\n",
       "      <td>0</td>\n",
       "      <td>1</td>\n",
       "      <td>0</td>\n",
       "      <td>0</td>\n",
       "      <td>0</td>\n",
       "      <td>0</td>\n",
       "      <td>0</td>\n",
       "      <td>1</td>\n",
       "      <td>0</td>\n",
       "      <td>0</td>\n",
       "      <td>0</td>\n",
       "    </tr>\n",
       "    <tr>\n",
       "      <th>71185</th>\n",
       "      <td>0</td>\n",
       "      <td>0</td>\n",
       "      <td>0</td>\n",
       "      <td>0</td>\n",
       "      <td>1</td>\n",
       "      <td>1</td>\n",
       "      <td>0</td>\n",
       "      <td>0</td>\n",
       "      <td>0</td>\n",
       "      <td>0</td>\n",
       "      <td>1</td>\n",
       "      <td>0</td>\n",
       "      <td>0</td>\n",
       "      <td>0</td>\n",
       "      <td>0</td>\n",
       "    </tr>\n",
       "    <tr>\n",
       "      <th>30296</th>\n",
       "      <td>0</td>\n",
       "      <td>0</td>\n",
       "      <td>0</td>\n",
       "      <td>0</td>\n",
       "      <td>1</td>\n",
       "      <td>1</td>\n",
       "      <td>0</td>\n",
       "      <td>0</td>\n",
       "      <td>0</td>\n",
       "      <td>0</td>\n",
       "      <td>0</td>\n",
       "      <td>1</td>\n",
       "      <td>0</td>\n",
       "      <td>0</td>\n",
       "      <td>0</td>\n",
       "    </tr>\n",
       "    <tr>\n",
       "      <th>47999</th>\n",
       "      <td>24</td>\n",
       "      <td>0</td>\n",
       "      <td>0</td>\n",
       "      <td>0</td>\n",
       "      <td>1</td>\n",
       "      <td>1</td>\n",
       "      <td>0</td>\n",
       "      <td>0</td>\n",
       "      <td>0</td>\n",
       "      <td>0</td>\n",
       "      <td>0</td>\n",
       "      <td>1</td>\n",
       "      <td>0</td>\n",
       "      <td>0</td>\n",
       "      <td>1</td>\n",
       "    </tr>\n",
       "  </tbody>\n",
       "</table>\n",
       "</div>"
      ],
      "text/plain": [
       "       Intake Age in Months  Abandoned  Owner Surrender  Public Assist  Stray  \\\n",
       "35540                    36          0                0              0      1   \n",
       "22727                    10          0                1              0      0   \n",
       "71185                     0          0                0              0      1   \n",
       "30296                     0          0                0              0      1   \n",
       "47999                    24          0                0              0      1   \n",
       "\n",
       "       Normal  SickInj  PregNurs  Feral  Bird  Cat  Dog  Livestock  Other  \\\n",
       "35540       0        1         0      0     0    0    1          0      0   \n",
       "22727       1        0         0      0     0    0    1          0      0   \n",
       "71185       1        0         0      0     0    1    0          0      0   \n",
       "30296       1        0         0      0     0    0    1          0      0   \n",
       "47999       1        0         0      0     0    0    1          0      0   \n",
       "\n",
       "       Male  \n",
       "35540     1  \n",
       "22727     0  \n",
       "71185     0  \n",
       "30296     0  \n",
       "47999     1  "
      ]
     },
     "execution_count": 6,
     "metadata": {},
     "output_type": "execute_result"
    }
   ],
   "source": [
    "# We will use 75% of the data as a Training Set and 25% as a Test Set.\n",
    "# Placement is the Target Variable.\n",
    "\n",
    "x_train, x_test, y_train, y_test = train_test_split(LRData_df.drop('Placement',axis=1), LRData_df['Placement'], test_size=0.25)\n",
    "\n",
    "# Check Number of Observations and Number of Columns:\n",
    "\n",
    "print(x_train.shape)\n",
    "print(y_train.shape)\n",
    "\n",
    "# Preview a few rows of the Training Set:\n",
    "x_train[0:5]"
   ]
  },
  {
   "cell_type": "code",
   "execution_count": 7,
   "metadata": {},
   "outputs": [],
   "source": [
    "LogReg = LogisticRegression(solver='liblinear')\n",
    "LogReg.fit(x_train, y_train)\n",
    "\n",
    "y_pred = LogReg.predict(x_test)"
   ]
  },
  {
   "cell_type": "code",
   "execution_count": 8,
   "metadata": {},
   "outputs": [
    {
     "name": "stdout",
     "output_type": "stream",
     "text": [
      "              precision    recall  f1-score   support\n",
      "\n",
      "           0       0.62      0.14      0.22      9071\n",
      "           1       0.69      0.96      0.80     18029\n",
      "\n",
      "    accuracy                           0.68     27100\n",
      "   macro avg       0.65      0.55      0.51     27100\n",
      "weighted avg       0.66      0.68      0.61     27100\n",
      "\n"
     ]
    }
   ],
   "source": [
    "# Print Classification Report to look at model accuracy\n",
    "\n",
    "print(classification_report(y_test, y_pred))"
   ]
  },
  {
   "cell_type": "code",
   "execution_count": 9,
   "metadata": {},
   "outputs": [
    {
     "data": {
      "text/plain": [
       "0.6832311412121455"
      ]
     },
     "execution_count": 9,
     "metadata": {},
     "output_type": "execute_result"
    }
   ],
   "source": [
    "# Generate a Confusion Matrix for another look at accuracy\n",
    "\n",
    "y_train_pred = cross_val_predict(LogReg, x_train, y_train, cv=5)\n",
    "confusion_matrix(y_train, y_train_pred)\n",
    "precision_score(y_train, y_train_pred)"
   ]
  },
  {
   "cell_type": "code",
   "execution_count": 10,
   "metadata": {},
   "outputs": [],
   "source": [
    "# The Logistic Regression above including all animal types did not have excellent results.  We also tried a model for only\n",
    "# the most typical house pets, Cats and Dogs.  As before, we eliminated all Intake Types = Euthanasia Request, \n",
    "# which accounted for 0.2% of all intakes.\n",
    "\n",
    "# After this cleaning, 107,064 observations remained.  This is a significant decrease from the original 126,000+\n",
    "# observations but still a large data set and nearly as many as the set with all Animal TypThe"
   ]
  },
  {
   "cell_type": "code",
   "execution_count": 11,
   "metadata": {},
   "outputs": [
    {
     "name": "stdout",
     "output_type": "stream",
     "text": [
      "<class 'pandas.core.frame.DataFrame'>\n",
      "RangeIndex: 107064 entries, 0 to 107063\n",
      "Data columns (total 13 columns):\n",
      " #   Column                Non-Null Count   Dtype\n",
      "---  ------                --------------   -----\n",
      " 0   Intake Age in Months  107064 non-null  int64\n",
      " 1   Abandoned             107064 non-null  int64\n",
      " 2   Owner Surrender       107064 non-null  int64\n",
      " 3   Public Assist         107064 non-null  int64\n",
      " 4   Stray                 107064 non-null  int64\n",
      " 5   Normal                107064 non-null  int64\n",
      " 6   SickInj               107064 non-null  int64\n",
      " 7   PregNurs              107064 non-null  int64\n",
      " 8   Feral                 107064 non-null  int64\n",
      " 9   Cat                   107064 non-null  int64\n",
      " 10  Dog                   107064 non-null  int64\n",
      " 11  Male                  107064 non-null  int64\n",
      " 12  Placement             107064 non-null  int64\n",
      "dtypes: int64(13)\n",
      "memory usage: 10.6 MB\n",
      "None\n"
     ]
    }
   ],
   "source": [
    "LRCatDogData_df = pd.read_csv(\"Austin_Animal_Shelter_Dataset_LR_CatDog.csv\")\n",
    "\n",
    "LRCatDogData_df.head()\n",
    "LRCatDogData_df[0:10]\n",
    "LRCatDogData_df.isnull().any()\n",
    "print(LRCatDogData_df.info())\n"
   ]
  },
  {
   "cell_type": "code",
   "execution_count": 12,
   "metadata": {},
   "outputs": [
    {
     "name": "stdout",
     "output_type": "stream",
     "text": [
      "(80298, 12)\n",
      "(80298,)\n"
     ]
    },
    {
     "data": {
      "text/html": [
       "<div>\n",
       "<style scoped>\n",
       "    .dataframe tbody tr th:only-of-type {\n",
       "        vertical-align: middle;\n",
       "    }\n",
       "\n",
       "    .dataframe tbody tr th {\n",
       "        vertical-align: top;\n",
       "    }\n",
       "\n",
       "    .dataframe thead th {\n",
       "        text-align: right;\n",
       "    }\n",
       "</style>\n",
       "<table border=\"1\" class=\"dataframe\">\n",
       "  <thead>\n",
       "    <tr style=\"text-align: right;\">\n",
       "      <th></th>\n",
       "      <th>Intake Age in Months</th>\n",
       "      <th>Abandoned</th>\n",
       "      <th>Owner Surrender</th>\n",
       "      <th>Public Assist</th>\n",
       "      <th>Stray</th>\n",
       "      <th>Normal</th>\n",
       "      <th>SickInj</th>\n",
       "      <th>PregNurs</th>\n",
       "      <th>Feral</th>\n",
       "      <th>Cat</th>\n",
       "      <th>Dog</th>\n",
       "      <th>Male</th>\n",
       "    </tr>\n",
       "  </thead>\n",
       "  <tbody>\n",
       "    <tr>\n",
       "      <th>22971</th>\n",
       "      <td>60</td>\n",
       "      <td>0</td>\n",
       "      <td>0</td>\n",
       "      <td>1</td>\n",
       "      <td>0</td>\n",
       "      <td>1</td>\n",
       "      <td>0</td>\n",
       "      <td>0</td>\n",
       "      <td>0</td>\n",
       "      <td>0</td>\n",
       "      <td>1</td>\n",
       "      <td>1</td>\n",
       "    </tr>\n",
       "    <tr>\n",
       "      <th>48218</th>\n",
       "      <td>24</td>\n",
       "      <td>0</td>\n",
       "      <td>1</td>\n",
       "      <td>0</td>\n",
       "      <td>0</td>\n",
       "      <td>1</td>\n",
       "      <td>0</td>\n",
       "      <td>0</td>\n",
       "      <td>0</td>\n",
       "      <td>0</td>\n",
       "      <td>1</td>\n",
       "      <td>0</td>\n",
       "    </tr>\n",
       "    <tr>\n",
       "      <th>3326</th>\n",
       "      <td>41</td>\n",
       "      <td>0</td>\n",
       "      <td>0</td>\n",
       "      <td>0</td>\n",
       "      <td>1</td>\n",
       "      <td>1</td>\n",
       "      <td>0</td>\n",
       "      <td>0</td>\n",
       "      <td>0</td>\n",
       "      <td>0</td>\n",
       "      <td>1</td>\n",
       "      <td>1</td>\n",
       "    </tr>\n",
       "    <tr>\n",
       "      <th>58304</th>\n",
       "      <td>0</td>\n",
       "      <td>0</td>\n",
       "      <td>0</td>\n",
       "      <td>0</td>\n",
       "      <td>1</td>\n",
       "      <td>1</td>\n",
       "      <td>0</td>\n",
       "      <td>0</td>\n",
       "      <td>0</td>\n",
       "      <td>1</td>\n",
       "      <td>0</td>\n",
       "      <td>1</td>\n",
       "    </tr>\n",
       "    <tr>\n",
       "      <th>99320</th>\n",
       "      <td>2</td>\n",
       "      <td>0</td>\n",
       "      <td>0</td>\n",
       "      <td>0</td>\n",
       "      <td>1</td>\n",
       "      <td>1</td>\n",
       "      <td>0</td>\n",
       "      <td>0</td>\n",
       "      <td>0</td>\n",
       "      <td>0</td>\n",
       "      <td>1</td>\n",
       "      <td>0</td>\n",
       "    </tr>\n",
       "  </tbody>\n",
       "</table>\n",
       "</div>"
      ],
      "text/plain": [
       "       Intake Age in Months  Abandoned  Owner Surrender  Public Assist  Stray  \\\n",
       "22971                    60          0                0              1      0   \n",
       "48218                    24          0                1              0      0   \n",
       "3326                     41          0                0              0      1   \n",
       "58304                     0          0                0              0      1   \n",
       "99320                     2          0                0              0      1   \n",
       "\n",
       "       Normal  SickInj  PregNurs  Feral  Cat  Dog  Male  \n",
       "22971       1        0         0      0    0    1     1  \n",
       "48218       1        0         0      0    0    1     0  \n",
       "3326        1        0         0      0    0    1     1  \n",
       "58304       1        0         0      0    1    0     1  \n",
       "99320       1        0         0      0    0    1     0  "
      ]
     },
     "execution_count": 12,
     "metadata": {},
     "output_type": "execute_result"
    }
   ],
   "source": [
    "# We will use 75% of the data as a Training Set and 25% as a Test Set.\n",
    "# Placement is the Target Variable.\n",
    "\n",
    "x_train, x_test, y_train, y_test = train_test_split(LRCatDogData_df.drop('Placement',axis=1), LRCatDogData_df['Placement'], test_size=0.25)\n",
    "\n",
    "# Check Number of Observations and Number of Columns:\n",
    "\n",
    "print(x_train.shape)\n",
    "print(y_train.shape)\n",
    "\n",
    "# Preview a few rows of the Training Set:\n",
    "x_train[0:5]"
   ]
  },
  {
   "cell_type": "code",
   "execution_count": 13,
   "metadata": {},
   "outputs": [],
   "source": [
    "LogReg = LogisticRegression(solver='liblinear')\n",
    "LogReg.fit(x_train, y_train)\n",
    "\n",
    "y_pred = LogReg.predict(x_test)"
   ]
  },
  {
   "cell_type": "code",
   "execution_count": 14,
   "metadata": {},
   "outputs": [
    {
     "name": "stdout",
     "output_type": "stream",
     "text": [
      "              precision    recall  f1-score   support\n",
      "\n",
      "           0       0.60      0.14      0.23      8976\n",
      "           1       0.69      0.95      0.80     17790\n",
      "\n",
      "    accuracy                           0.68     26766\n",
      "   macro avg       0.65      0.55      0.51     26766\n",
      "weighted avg       0.66      0.68      0.61     26766\n",
      "\n"
     ]
    }
   ],
   "source": [
    "# Print Classification Report to look at model accuracy\n",
    "\n",
    "print(classification_report(y_test, y_pred))"
   ]
  },
  {
   "cell_type": "code",
   "execution_count": 15,
   "metadata": {},
   "outputs": [
    {
     "data": {
      "text/plain": [
       "0.6869179120641109"
      ]
     },
     "execution_count": 15,
     "metadata": {},
     "output_type": "execute_result"
    }
   ],
   "source": [
    "# Generate a Confusion Matrix for another look at accuracy\n",
    "\n",
    "y_train_pred = cross_val_predict(LogReg, x_train, y_train, cv=5)\n",
    "confusion_matrix(y_train, y_train_pred)\n",
    "precision_score(y_train, y_train_pred)"
   ]
  },
  {
   "cell_type": "code",
   "execution_count": 16,
   "metadata": {},
   "outputs": [],
   "source": [
    "# The Model was no more accurate when limited to cats and dogs."
   ]
  }
 ],
 "metadata": {
  "kernelspec": {
   "display_name": "Python 3",
   "language": "python",
   "name": "python3"
  },
  "language_info": {
   "codemirror_mode": {
    "name": "ipython",
    "version": 3
   },
   "file_extension": ".py",
   "mimetype": "text/x-python",
   "name": "python",
   "nbconvert_exporter": "python",
   "pygments_lexer": "ipython3",
   "version": "3.8.5"
  }
 },
 "nbformat": 4,
 "nbformat_minor": 4
}
